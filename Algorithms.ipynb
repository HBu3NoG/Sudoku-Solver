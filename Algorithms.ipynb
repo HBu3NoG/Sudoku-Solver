{
 "cells": [
  {
   "cell_type": "code",
   "execution_count": 2,
   "source": [
    "import numpy as np"
   ],
   "outputs": [],
   "metadata": {}
  },
  {
   "cell_type": "markdown",
   "source": [],
   "metadata": {}
  },
  {
   "cell_type": "code",
   "execution_count": 7,
   "source": [
    "# Grid\r\n",
    "grid = np.matrix([\r\n",
    "    [0,0,3,6,0,8,1,0,0],\r\n",
    "    [0,4,0,0,0,0,0,7,0],\r\n",
    "    [2,0,0,0,0,0,0,0,3],\r\n",
    "    [6,0,0,0,9,0,0,0,8],\r\n",
    "    [0,0,0,1,0,2,0,0,0],\r\n",
    "    [0,0,0,0,6,0,0,0,0],\r\n",
    "    [0,0,0,0,0,0,0,0,0],\r\n",
    "    [0,0,0,0,0,0,0,0,0],\r\n",
    "    [0,0,0,0,0,0,0,0,0]\r\n",
    "])\r\n",
    "\r\n",
    "# grid = np.matrix([\r\n",
    "#     [4,0,6,0,0,0,0,3,0],\r\n",
    "#     [0,0,0,0,0,0,0,5,1],\r\n",
    "#     [0,0,8,0,0,0,0,0,0],\r\n",
    "#     [0,0,0,0,0,0,0,0,3],\r\n",
    "#     [0,0,4,6,0,9,2,0,0],\r\n",
    "#     [5,0,0,0,0,0,0,0,0],\r\n",
    "#     [0,0,0,0,0,0,5,0,0],\r\n",
    "#     [9,4,0,0,0,0,0,0,0],\r\n",
    "#     [0,2,0,0,0,0,3,0,9]\r\n",
    "# ])\r\n",
    "\r\n",
    "# Display\r\n",
    "print(grid)"
   ],
   "outputs": [
    {
     "output_type": "stream",
     "name": "stdout",
     "text": [
      "[[0 0 3 6 0 8 1 0 0]\n",
      " [0 4 0 0 0 0 0 7 0]\n",
      " [2 0 0 0 0 0 0 0 3]\n",
      " [6 0 0 0 9 0 0 0 8]\n",
      " [0 0 0 1 0 2 0 0 0]\n",
      " [7 0 0 0 6 0 0 0 4]\n",
      " [4 0 0 0 0 0 0 0 1]\n",
      " [0 6 0 0 0 0 0 2 0]\n",
      " [0 0 0 0 0 0 0 0 0]]\n"
     ]
    }
   ],
   "metadata": {}
  },
  {
   "cell_type": "markdown",
   "source": [
    "## Brute Force Algorithm\r\n",
    "Implemented from Professor Thorsten Altenkirch in a Computerphile interview [[Link]](https://www.youtube.com/watch?v=G_UYXzGuqvM&t=529s). His algorithm is slightly modified to work under chess sudoku rules."
   ],
   "metadata": {}
  },
  {
   "cell_type": "code",
   "execution_count": 9,
   "source": [
    "def Possible(x,y,n):\r\n",
    "    global grid\r\n",
    "    # Test row\r\n",
    "    if n in grid[y]:\r\n",
    "        return False\r\n",
    "\r\n",
    "    # Test col\r\n",
    "    if n in grid[:,x]:\r\n",
    "        return False\r\n",
    "\r\n",
    "    # Test box\r\n",
    "    x0,y0 = 3*(x//3),3*(y//3)\r\n",
    "    for i in range(3):\r\n",
    "        for j in range(3):\r\n",
    "            if grid[y0+i,x0+j] == n:\r\n",
    "                return False\r\n",
    "\r\n",
    "    # Test knight rule\r\n",
    "    for dy in [+1,-1]:                                          # Top, Down\r\n",
    "        for dx in [-1,+1]:                                      # Left, Right\r\n",
    "            for kind in ([1,2],[2,1]):                          # Kind of jump\r\n",
    "                xk,yk = x+kind[0]*dx,y+kind[1]*dy               # Location landed\r\n",
    "                if np.logical_and(  xk >= 0 and xk < 9,         # Test jump is not outside the sudoku grid.\r\n",
    "                                    yk >= 0 and yk < 9  ): \r\n",
    "                    if grid[yk,xk] == n: return False\r\n",
    "\r\n",
    "    # If all tests passed\r\n",
    "    return True\r\n",
    "\r\n",
    "def BruteSolver():\r\n",
    "    global grid\r\n",
    "    for y in range(9):\r\n",
    "        for x in range(9):\r\n",
    "            if grid[y,x] == 0:\r\n",
    "                #if x == 1 and y == 0: print(self.grid)\r\n",
    "                for n in np.arange(1,10):\r\n",
    "                    if Possible(x, y, n): \r\n",
    "                        grid[y,x] = n\r\n",
    "                        BruteSolver()\r\n",
    "                        grid[y,x] = 0\r\n",
    "                return\r\n",
    "    print(grid)\r\n"
   ],
   "outputs": [],
   "metadata": {}
  },
  {
   "cell_type": "code",
   "execution_count": 10,
   "source": [
    "BruteSolver()"
   ],
   "outputs": [
    {
     "output_type": "stream",
     "name": "stdout",
     "text": [
      "[[5 9 3 6 7 8 1 4 2]\n",
      " [8 4 6 3 2 1 5 7 9]\n",
      " [2 1 7 9 4 5 6 8 3]\n",
      " [6 5 1 7 9 4 2 3 8]\n",
      " [9 3 4 1 8 2 7 5 6]\n",
      " [7 8 2 5 6 3 9 1 4]\n",
      " [4 7 5 2 3 6 8 9 1]\n",
      " [3 6 9 8 1 7 4 2 5]\n",
      " [1 2 8 4 5 9 3 6 7]]\n",
      "[[5 9 3 6 7 8 1 4 2]\n",
      " [8 4 6 3 2 1 5 7 9]\n",
      " [2 1 7 9 4 5 6 8 3]\n",
      " [6 5 1 7 9 4 2 3 8]\n",
      " [9 3 4 1 8 2 7 5 6]\n",
      " [7 8 2 5 6 3 9 1 4]\n",
      " [4 7 8 2 5 6 3 9 1]\n",
      " [3 6 9 8 1 7 4 2 5]\n",
      " [1 2 5 4 3 9 8 6 7]]\n"
     ]
    }
   ],
   "metadata": {}
  }
 ],
 "metadata": {
  "orig_nbformat": 4,
  "language_info": {
   "name": "python",
   "version": "3.7.4",
   "mimetype": "text/x-python",
   "codemirror_mode": {
    "name": "ipython",
    "version": 3
   },
   "pygments_lexer": "ipython3",
   "nbconvert_exporter": "python",
   "file_extension": ".py"
  },
  "kernelspec": {
   "name": "python3",
   "display_name": "Python 3.7.4 64-bit ('base': conda)"
  },
  "interpreter": {
   "hash": "4ba962433ce634cde499a2def155867a3065a4841db75053b162653b9c20e813"
  }
 },
 "nbformat": 4,
 "nbformat_minor": 2
}